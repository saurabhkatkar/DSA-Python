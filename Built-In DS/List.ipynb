{
 "cells": [
  {
   "cell_type": "markdown",
   "metadata": {},
   "source": [
    "## List Basic Commands And Tools"
   ]
  },
  {
   "cell_type": "code",
   "execution_count": 5,
   "metadata": {},
   "outputs": [
    {
     "output_type": "stream",
     "name": "stdout",
     "text": "[]\n"
    }
   ],
   "source": [
    "''' Initialize List '''\n",
    "my_list = [] \n",
    "print(my_list)"
   ]
  },
  {
   "cell_type": "code",
   "execution_count": 6,
   "metadata": {},
   "outputs": [
    {
     "output_type": "stream",
     "name": "stdout",
     "text": "[1, 2, 3, 2]\n"
    }
   ],
   "source": [
    "''' Assign Data to List '''\n",
    "my_list = [1, 2, 3,2]\n",
    "print(my_list)"
   ]
  },
  {
   "cell_type": "code",
   "execution_count": 7,
   "metadata": {},
   "outputs": [
    {
     "output_type": "stream",
     "name": "stdout",
     "text": "[1, 2, 3, 2, 4]\n"
    }
   ],
   "source": [
    "''' Append Data to List '''\n",
    "my_list.append(4)\n",
    "print(my_list)"
   ]
  },
  {
   "cell_type": "code",
   "execution_count": 8,
   "metadata": {},
   "outputs": [
    {
     "output_type": "stream",
     "name": "stdout",
     "text": "[1, 2, 3, 2, 4, 'Here is Some String', [23, True]]\n"
    }
   ],
   "source": [
    "''' List can contain dynamic Data '''\n",
    "my_list.append(\"Here is Some String\")\n",
    "my_list.append([23,True])\n",
    "print(my_list)"
   ]
  },
  {
   "cell_type": "code",
   "execution_count": 9,
   "metadata": {},
   "outputs": [
    {
     "output_type": "stream",
     "name": "stdout",
     "text": "[1, 2, 3, 2, 4, 'Here is Some String', [23, True], 'Multiple', 'Data']\n"
    }
   ],
   "source": [
    "''' Extend Data in List '''\n",
    "my_list.extend([\"Multiple\", \"Data\"])\n",
    "print(my_list)\n"
   ]
  },
  {
   "cell_type": "code",
   "execution_count": 10,
   "metadata": {},
   "outputs": [
    {
     "output_type": "stream",
     "name": "stdout",
     "text": "['1', 1, 2, 3, 2, 4, 'Here is Some String', [23, True], 'Multiple', 'Data']\n"
    }
   ],
   "source": [
    "'''Insert Data at specific Location '''\n",
    "my_list.insert(0, \"1\")\n",
    "print(my_list)\n"
   ]
  },
  {
   "cell_type": "code",
   "execution_count": 11,
   "metadata": {},
   "outputs": [
    {
     "output_type": "stream",
     "name": "stdout",
     "text": "['1', 2, 3, 2, 4, 'Here is Some String', [23, True], 'Multiple', 'Data']\n"
    }
   ],
   "source": [
    "'''Remove Data from specific Location '''\n",
    "my_list.pop(1)\n",
    "print(my_list)"
   ]
  },
  {
   "cell_type": "code",
   "execution_count": 12,
   "metadata": {},
   "outputs": [
    {
     "output_type": "stream",
     "name": "stdout",
     "text": "['1', 2, 3, 2, 4, 'Here is Some String', [23, True], 'Multiple']\n"
    }
   ],
   "source": [
    "'''Remove Data from List '''\n",
    "my_list.remove(\"Data\")\n",
    "print(my_list)\n"
   ]
  },
  {
   "cell_type": "code",
   "execution_count": 13,
   "metadata": {},
   "outputs": [
    {
     "output_type": "stream",
     "name": "stdout",
     "text": "4\n[2, 3]\n"
    }
   ],
   "source": [
    "'''Access Data from List '''\n",
    "print(my_list[4])\n",
    "print(my_list[1:3])"
   ]
  },
  {
   "cell_type": "code",
   "execution_count": 14,
   "metadata": {},
   "outputs": [
    {
     "output_type": "stream",
     "name": "stdout",
     "text": "2\n"
    }
   ],
   "source": [
    "'''Count occurences of element in List '''\n",
    "n = my_list.count(2)\n",
    "print(n)"
   ]
  },
  {
   "cell_type": "code",
   "execution_count": 15,
   "metadata": {},
   "outputs": [
    {
     "output_type": "stream",
     "name": "stdout",
     "text": "[]\n"
    }
   ],
   "source": [
    "'''Clear List '''\n",
    "my_list.clear()\n",
    "print(my_list)"
   ]
  },
  {
   "cell_type": "markdown",
   "metadata": {},
   "source": [
    "\n",
    "### Different Sorting Technique in List\n"
   ]
  },
  {
   "cell_type": "code",
   "execution_count": 16,
   "metadata": {},
   "outputs": [],
   "source": [
    "''' Initilize List '''\n",
    "list_with_numbers = [1, 4, 2, 4, 7, 1, 3]\n",
    "list_with_strings = [\"Hey\", \"Hello\", \"I\", \"am\", \"Saurabh\"]"
   ]
  },
  {
   "cell_type": "code",
   "execution_count": 17,
   "metadata": {},
   "outputs": [
    {
     "output_type": "stream",
     "name": "stdout",
     "text": "[1, 1, 2, 3, 4, 4, 7]\n"
    }
   ],
   "source": [
    "''' Sort Number List '''\n",
    "list_with_numbers.sort()\n",
    "print(list_with_numbers)\n"
   ]
  },
  {
   "cell_type": "code",
   "execution_count": 18,
   "metadata": {},
   "outputs": [
    {
     "output_type": "stream",
     "name": "stdout",
     "text": "['Hello', 'Hey', 'I', 'Saurabh', 'am']\n"
    }
   ],
   "source": [
    "\n",
    "''' Sort String List '''\n",
    "list_with_strings.sort()\n",
    "print(list_with_strings)\n"
   ]
  },
  {
   "cell_type": "markdown",
   "metadata": {},
   "source": [
    "\n",
    "### Reverse Sort List\n"
   ]
  },
  {
   "cell_type": "code",
   "execution_count": 19,
   "metadata": {},
   "outputs": [
    {
     "output_type": "stream",
     "name": "stdout",
     "text": "['am', 'Saurabh', 'I', 'Hey', 'Hello']\n"
    }
   ],
   "source": [
    "''' Reverse Sort String List '''\n",
    "list_with_strings.sort(reverse=True)\n",
    "print(list_with_strings)"
   ]
  },
  {
   "cell_type": "markdown",
   "metadata": {},
   "source": [
    "\n",
    "### Reverse List Without Sorting\n"
   ]
  },
  {
   "cell_type": "code",
   "execution_count": 20,
   "metadata": {},
   "outputs": [
    {
     "output_type": "stream",
     "name": "stdout",
     "text": "[]\n"
    }
   ],
   "source": [
    "\n",
    "'''Reverse List'''\n",
    "my_list.reverse()\n",
    "print(my_list)\n",
    "\n"
   ]
  },
  {
   "cell_type": "code",
   "execution_count": 21,
   "metadata": {},
   "outputs": [
    {
     "output_type": "stream",
     "name": "stdout",
     "text": "[]\n"
    }
   ],
   "source": [
    "\n",
    "'''Reverse List without using function'''\n",
    "my_list = my_list[::-1]\n",
    "print(my_list)\n"
   ]
  }
 ],
 "metadata": {
  "language_info": {
   "codemirror_mode": {
    "name": "ipython",
    "version": 3
   },
   "file_extension": ".py",
   "mimetype": "text/x-python",
   "name": "python",
   "nbconvert_exporter": "python",
   "pygments_lexer": "ipython3",
   "version": "3.8.2-final"
  },
  "orig_nbformat": 2,
  "kernelspec": {
   "name": "python38232bit1ea30efcf23f4d6d93c2f86e685d9341",
   "display_name": "Python 3.8.2 32-bit"
  }
 },
 "nbformat": 4,
 "nbformat_minor": 2
}