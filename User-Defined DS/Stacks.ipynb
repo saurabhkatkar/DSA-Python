{
 "cells": [
  {
   "cell_type": "markdown",
   "metadata": {},
   "source": [
    "## Stack Using List (LIFO)\n",
    "Time Complexity for append and pop => O(n)"
   ]
  },
  {
   "cell_type": "code",
   "execution_count": 21,
   "metadata": {},
   "outputs": [
    {
     "output_type": "execute_result",
     "data": {
      "text/plain": "[1, 2, 3, 4]"
     },
     "metadata": {},
     "execution_count": 21
    }
   ],
   "source": [
    "''' Initialize of Stack'''\n",
    "stack = [1,2,3,4]\n",
    "stack"
   ]
  },
  {
   "cell_type": "code",
   "execution_count": 15,
   "metadata": {},
   "outputs": [
    {
     "output_type": "execute_result",
     "data": {
      "text/plain": "[1, 2, 3, 4, 5]"
     },
     "metadata": {},
     "execution_count": 15
    }
   ],
   "source": [
    "''' Append Element on TOP '''\n",
    "stack.append(5)\n",
    "stack"
   ]
  },
  {
   "cell_type": "code",
   "execution_count": 16,
   "metadata": {},
   "outputs": [
    {
     "output_type": "execute_result",
     "data": {
      "text/plain": "5"
     },
     "metadata": {},
     "execution_count": 16
    }
   ],
   "source": [
    "''' Remove Element from TOP '''\n",
    "stack.pop()"
   ]
  },
  {
   "cell_type": "markdown",
   "metadata": {},
   "source": [
    "## Stack Using Deque\n",
    "Time Complexity for append and pop => O(1)"
   ]
  },
  {
   "cell_type": "code",
   "execution_count": 19,
   "metadata": {},
   "outputs": [],
   "source": [
    "''' Initialize of Stack in Deque'''\n",
    "from collections import deque \n",
    "  \n",
    "newStack = deque() "
   ]
  },
  {
   "cell_type": "code",
   "execution_count": 20,
   "metadata": {},
   "outputs": [
    {
     "output_type": "execute_result",
     "data": {
      "text/plain": "deque([1, 2, 3])"
     },
     "metadata": {},
     "execution_count": 20
    }
   ],
   "source": [
    "''' Append In new Deque Stack'''\n",
    "newStack.append(1)\n",
    "newStack.append(2)\n",
    "newStack.append(3)\n",
    "newStack"
   ]
  },
  {
   "cell_type": "code",
   "execution_count": 22,
   "metadata": {},
   "outputs": [
    {
     "output_type": "execute_result",
     "data": {
      "text/plain": "3"
     },
     "metadata": {},
     "execution_count": 22
    }
   ],
   "source": [
    "''' POP In new Deque Stack'''\n",
    "newStack.pop()"
   ]
  },
  {
   "cell_type": "markdown",
   "metadata": {},
   "source": [
    "## Stack Using LifoQueue\n",
    "Time Complexity for append and pop => O(1)"
   ]
  },
  {
   "cell_type": "code",
   "execution_count": 23,
   "metadata": {},
   "outputs": [],
   "source": [
    "from queue import LifoQueue \n",
    "  \n",
    "''' Initializing a stack with/without size'''\n",
    "lifoStack = LifoQueue(maxsize = 3) "
   ]
  },
  {
   "cell_type": "code",
   "execution_count": 25,
   "metadata": {},
   "outputs": [
    {
     "output_type": "stream",
     "name": "stdout",
     "text": "0\n"
    }
   ],
   "source": [
    "'''  show the number of elements in the stack '''\n",
    "print(lifoStack.qsize())"
   ]
  },
  {
   "cell_type": "code",
   "execution_count": 27,
   "metadata": {},
   "outputs": [],
   "source": [
    "''' Append in lifoStack '''\n",
    "lifoStack.put('a') \n",
    "lifoStack.put('b') \n",
    "lifoStack.put('c') \n",
    "print(lifoStack)"
   ]
  },
  {
   "cell_type": "code",
   "execution_count": null,
   "metadata": {},
   "outputs": [],
   "source": []
  }
 ],
 "metadata": {
  "language_info": {
   "codemirror_mode": {
    "name": "ipython",
    "version": 3
   },
   "file_extension": ".py",
   "mimetype": "text/x-python",
   "name": "python",
   "nbconvert_exporter": "python",
   "pygments_lexer": "ipython3",
   "version": "3.8.2-final"
  },
  "orig_nbformat": 2,
  "kernelspec": {
   "name": "python38232bit1ea30efcf23f4d6d93c2f86e685d9341",
   "display_name": "Python 3.8.2 32-bit"
  }
 },
 "nbformat": 4,
 "nbformat_minor": 2
}